{
 "cells": [
  {
   "cell_type": "markdown",
   "metadata": {},
   "source": [
    "# NLP Project\n",
    "\n",
    "This is an example of an NLP Project that we could do on this dataset, that we scraped earlier, saved and exported to a dataset."
   ]
  },
  {
   "cell_type": "markdown",
   "metadata": {},
   "source": [
    "## Importing packages and dataset"
   ]
  },
  {
   "cell_type": "code",
   "execution_count": null,
   "metadata": {},
   "outputs": [],
   "source": [
    "import copy\n",
    "import pandas as pd\n",
    "import numpy as np\n",
    "from sklearn.model_selection import train_test_split\n",
    "from sklearn.metrics import accuracy_score\n",
    "from sklearn.feature_extraction.text import CountVectorizer\n",
    "from sklearn.linear_model import LogisticRegression\n",
    "\n",
    "pd.options.mode.chained_assignment = None\n",
    "df = pd.read_csv('data/comment_data.csv', usecols=['score', 'text'])"
   ]
  },
  {
   "cell_type": "markdown",
   "metadata": {},
   "source": [
    "## Preparing the dataset"
   ]
  },
  {
   "cell_type": "code",
   "execution_count": 2,
   "metadata": {},
   "outputs": [],
   "source": [
    "def prepare_data(df):\n",
    "    # Remove everything except alphanumeric characters\n",
    "    df.text = df.text.str.replace('[^a-zA-Z\\s]', '')\n",
    "    \n",
    "    # Get only numbers, but allow minus in front\n",
    "    df.score = df.score.str.extract('(^-?[0-9]*\\S+)')\n",
    "    \n",
    "    # Remove rows with None as string\n",
    "    df.score = df.score.replace('None', np.nan)\n",
    "    \n",
    "    # Remove all None\n",
    "    df = df.dropna()\n",
    "    \n",
    "    # Convert score feature from string to float\n",
    "    score = df.score.astype(float)\n",
    "    df.score = copy.deepcopy(score)\n",
    "    \n",
    "    return df\n",
    "\n",
    "df = prepare_data(df)"
   ]
  },
  {
   "cell_type": "markdown",
   "metadata": {},
   "source": [
    "## Converting score to percentile rating"
   ]
  },
  {
   "cell_type": "code",
   "execution_count": 3,
   "metadata": {},
   "outputs": [],
   "source": [
    "def score_to_percentile(df):\n",
    "    second = df.score.quantile(0.50) # Average\n",
    "    third = df.score.quantile(0.75) # Good\n",
    "    fourth = df.score.quantile(0.95) # exceptional\n",
    "    \n",
    "    new_score = []\n",
    "    \n",
    "    for i, row in enumerate(df.score):\n",
    "        if row > fourth:\n",
    "            new_score.append('exceptional')\n",
    "        elif row > third:\n",
    "            new_score.append('good')\n",
    "        elif row > second:\n",
    "            new_score.append('average')\n",
    "        else:\n",
    "            new_score.append('bad')\n",
    "        \n",
    "    df.score = new_score\n",
    "    \n",
    "    return df\n",
    "\n",
    "df = score_to_percentile(df)"
   ]
  },
  {
   "cell_type": "markdown",
   "metadata": {},
   "source": [
    "## Split the data for training and testing"
   ]
  },
  {
   "cell_type": "code",
   "execution_count": 4,
   "metadata": {},
   "outputs": [],
   "source": [
    "def df_split(df):\n",
    "    y = df[['score']]\n",
    "    X = df.drop(['score'], axis=1)\n",
    "    \n",
    "    content = [' ' + comment for comment in X.text.values]\n",
    "    X = CountVectorizer().fit_transform(content).toarray()\n",
    "    \n",
    "    X_train, X_test, y_train, y_test = train_test_split(\n",
    "            X, y, test_size=0.33, random_state=42)\n",
    "    \n",
    "    return X_train, X_test, y_train, y_test\n",
    "\n",
    "X_train, X_test, y_train, y_test = df_split(df)"
   ]
  },
  {
   "cell_type": "markdown",
   "metadata": {},
   "source": [
    "## Train and Test Logistic Regression Model \n",
    "\n",
    "Note: This accuracy score is not that great, but this is an example project, to provide a baseline. If you are reading this, try to optimize the accuracy further."
   ]
  },
  {
   "cell_type": "code",
   "execution_count": 5,
   "metadata": {},
   "outputs": [
    {
     "name": "stderr",
     "output_type": "stream",
     "text": [
      "C:\\Users\\caspe\\Anaconda3\\envs\\web_scraping\\lib\\site-packages\\sklearn\\utils\\validation.py:724: DataConversionWarning: A column-vector y was passed when a 1d array was expected. Please change the shape of y to (n_samples, ), for example using ravel().\n",
      "  y = column_or_1d(y, warn=True)\n",
      "C:\\Users\\caspe\\Anaconda3\\envs\\web_scraping\\lib\\site-packages\\sklearn\\linear_model\\logistic.py:947: ConvergenceWarning: lbfgs failed to converge. Increase the number of iterations.\n",
      "  \"of iterations.\", ConvergenceWarning)\n"
     ]
    },
    {
     "name": "stdout",
     "output_type": "stream",
     "text": [
      "Accuracy: 0.5980900409276944\n"
     ]
    }
   ],
   "source": [
    "lr = LogisticRegression(C=0.05, solver='lbfgs', multi_class='multinomial')\n",
    "lr.fit(X_train, y_train)\n",
    "pred = lr.predict(X_test)\n",
    "score = accuracy_score(y_test, pred)\n",
    "\n",
    "print (\"Accuracy: {0}\".format(score))"
   ]
  }
 ],
 "metadata": {
  "kernelspec": {
   "display_name": "Python 3",
   "language": "python",
   "name": "python3"
  },
  "language_info": {
   "codemirror_mode": {
    "name": "ipython",
    "version": 3
   },
   "file_extension": ".py",
   "mimetype": "text/x-python",
   "name": "python",
   "nbconvert_exporter": "python",
   "pygments_lexer": "ipython3",
   "version": "3.7.5"
  }
 },
 "nbformat": 4,
 "nbformat_minor": 2
}
